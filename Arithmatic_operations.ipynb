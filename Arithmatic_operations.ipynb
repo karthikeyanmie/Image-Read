{
  "nbformat": 4,
  "nbformat_minor": 0,
  "metadata": {
    "colab": {
      "name": "Arithmatic operations",
      "provenance": [],
      "authorship_tag": "ABX9TyM3Oxl0D8e+QrBCzjw/A6B3",
      "include_colab_link": true
    },
    "kernelspec": {
      "name": "python3",
      "display_name": "Python 3"
    }
  },
  "cells": [
    {
      "cell_type": "markdown",
      "metadata": {
        "id": "view-in-github",
        "colab_type": "text"
      },
      "source": [
        "<a href=\"https://colab.research.google.com/github/karthikeyanmie/Image-Read/blob/master/Arithmatic_operations.ipynb\" target=\"_parent\"><img src=\"https://colab.research.google.com/assets/colab-badge.svg\" alt=\"Open In Colab\"/></a>"
      ]
    },
    {
      "cell_type": "code",
      "metadata": {
        "id": "0PCBYGcP7ko1",
        "colab_type": "code",
        "outputId": "0ab55ecf-ed1e-428f-f0e2-7e6686e0b04e",
        "colab": {
          "base_uri": "https://localhost:8080/",
          "height": 119
        }
      },
      "source": [
        "print(10 +3) # operators +,-, div 2 types\n",
        "print(10 / 3) # floating point number\n",
        "print(10 // 3) # to get an integer\n",
        "print(10 % 3) # remainder\n",
        "print(10 * 3) # mul\n",
        "print(10 ** 3) #power of"
      ],
      "execution_count": 0,
      "outputs": [
        {
          "output_type": "stream",
          "text": [
            "13\n",
            "3.3333333333333335\n",
            "3\n",
            "1\n",
            "30\n",
            "1000\n"
          ],
          "name": "stdout"
        }
      ]
    },
    {
      "cell_type": "markdown",
      "metadata": {
        "id": "uVmKT9wz9fwy",
        "colab_type": "text"
      },
      "source": [
        "Augumental assignment operator"
      ]
    },
    {
      "cell_type": "code",
      "metadata": {
        "id": "M_6IdPfZ9lwv",
        "colab_type": "code",
        "outputId": "61544271-20c8-4fc3-d6bf-e837aec9fe71",
        "colab": {
          "base_uri": "https://localhost:8080/",
          "height": 51
        }
      },
      "source": [
        "x= 20\n",
        "x=x+5       \n",
        "print (x)\n",
        "print ('values')"
      ],
      "execution_count": 0,
      "outputs": [
        {
          "output_type": "stream",
          "text": [
            "25\n",
            "values\n"
          ],
          "name": "stdout"
        }
      ]
    },
    {
      "cell_type": "code",
      "metadata": {
        "id": "CuwvF_9e-L9d",
        "colab_type": "code",
        "colab": {}
      },
      "source": [
        "x= 20\n",
        "x += 5       # augumental assign operator\n",
        "print (x)"
      ],
      "execution_count": 0,
      "outputs": []
    },
    {
      "cell_type": "code",
      "metadata": {
        "id": "2RQeNRDx-qq4",
        "colab_type": "code",
        "outputId": "e419c54c-ac16-4632-942f-e92ebb4b7a34",
        "colab": {
          "base_uri": "https://localhost:8080/",
          "height": 34
        }
      },
      "source": [
        "x -= 3\n",
        "print(x)"
      ],
      "execution_count": 0,
      "outputs": [
        {
          "output_type": "stream",
          "text": [
            "22\n"
          ],
          "name": "stdout"
        }
      ]
    },
    {
      "cell_type": "markdown",
      "metadata": {
        "id": "z-WWTACw_DqV",
        "colab_type": "text"
      },
      "source": [
        "Operator Precedence -  paranthesis or exp or mul or div or add or sub"
      ]
    },
    {
      "cell_type": "code",
      "metadata": {
        "id": "vNHIknTa-8ak",
        "colab_type": "code",
        "outputId": "e80c786d-6f5f-4e3c-c17b-135d88ff9ae1",
        "colab": {
          "base_uri": "https://localhost:8080/",
          "height": 51
        }
      },
      "source": [
        "x = 20 + 4 * 3\n",
        "print(x)\n",
        "y= (30 + 2) *3 **2\n",
        "print(y)\n",
        "\n"
      ],
      "execution_count": 0,
      "outputs": [
        {
          "output_type": "stream",
          "text": [
            "32\n",
            "288\n"
          ],
          "name": "stdout"
        }
      ]
    },
    {
      "cell_type": "code",
      "metadata": {
        "id": "erpAh2RFBacf",
        "colab_type": "code",
        "colab": {}
      },
      "source": [
        "z= (10-3) * 3 - 4 // 2\n",
        "print (z)"
      ],
      "execution_count": 0,
      "outputs": []
    },
    {
      "cell_type": "code",
      "metadata": {
        "id": "ftgwc8IsCEhG",
        "colab_type": "code",
        "colab": {}
      },
      "source": [
        "v= 4.8\n",
        "print(round(v))\n",
        "print(abs(v))    # always gives +ve number\n",
        "print(abs(-6.75))"
      ],
      "execution_count": 0,
      "outputs": []
    },
    {
      "cell_type": "code",
      "metadata": {
        "id": "HXtFFFkiDSnB",
        "colab_type": "code",
        "colab": {}
      },
      "source": [
        "import math\n",
        "print(math.ceil(2.9))"
      ],
      "execution_count": 0,
      "outputs": []
    },
    {
      "cell_type": "code",
      "metadata": {
        "id": "HnyGRZrdEZSH",
        "colab_type": "code",
        "colab": {}
      },
      "source": [
        "import math\n",
        "print(math.floor(2.9)) "
      ],
      "execution_count": 0,
      "outputs": []
    },
    {
      "cell_type": "code",
      "metadata": {
        "id": "LA7k6Mo3EduW",
        "colab_type": "code",
        "colab": {}
      },
      "source": [
        "import math\n",
        "print(math.fabs(-2.9))  # absolute\n",
        "print(math.fmod(12,3))  # % may vary\n",
        "print(math.fmod(10,3)) # for float\n",
        "print(math.copysign(-10,-3))  # abs of x and y sign\n",
        "print(math.gcd(16,2)) \n"
      ],
      "execution_count": 0,
      "outputs": []
    },
    {
      "cell_type": "code",
      "metadata": {
        "id": "1k55m9r8H8Ax",
        "colab_type": "code",
        "colab": {}
      },
      "source": [
        "from math import exp, expm1\n",
        "exp(1e-5) - 1  # gives result accurate to 11 places\n",
        "\n",
        "expm1(1e-5)    # result accurate to full precision\n"
      ],
      "execution_count": 0,
      "outputs": []
    }
  ]
}