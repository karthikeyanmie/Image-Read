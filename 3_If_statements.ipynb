{
  "nbformat": 4,
  "nbformat_minor": 0,
  "metadata": {
    "colab": {
      "name": "3.If statements.ipynb",
      "provenance": [],
      "authorship_tag": "ABX9TyNX/vuWAPndCt80Ms2qOWIy",
      "include_colab_link": true
    },
    "kernelspec": {
      "name": "python3",
      "display_name": "Python 3"
    }
  },
  "cells": [
    {
      "cell_type": "markdown",
      "metadata": {
        "id": "view-in-github",
        "colab_type": "text"
      },
      "source": [
        "<a href=\"https://colab.research.google.com/github/karthikeyanmie/Image-Read/blob/master/3_If_statements.ipynb\" target=\"_parent\"><img src=\"https://colab.research.google.com/assets/colab-badge.svg\" alt=\"Open In Colab\"/></a>"
      ]
    },
    {
      "cell_type": "code",
      "metadata": {
        "id": "a3doH68qJLiO",
        "colab_type": "code",
        "colab": {}
      },
      "source": [
        "is_hot = True\n",
        "is_cold = False\n",
        "if is_hot:\n",
        "  print(\"It's a hot day\")     #IndentationError: unindent does not match any outer indentation level \n",
        "  print('Drink plenty of water')\n",
        "elif is_cold:\n",
        "  print(\"it's a cold day\")\n",
        "  print(\"wear warm cloths\")\n",
        "else:\n",
        "  print('happy day')   \n",
        "print(\"enjoy your day\")"
      ],
      "execution_count": 0,
      "outputs": []
    },
    {
      "cell_type": "code",
      "metadata": {
        "id": "Rzk3BIOk7D4G",
        "colab_type": "code",
        "colab": {}
      },
      "source": [
        "price=1000000\n",
        "has_good_credit = False\n",
        "if has_good_credit:\n",
        "  down_payment = 0.1*price\n",
        "else:\n",
        "  down_payment =0.2* price\n",
        "print(f'down_payment: Rs{down_payment}')  "
      ],
      "execution_count": 0,
      "outputs": []
    },
    {
      "cell_type": "markdown",
      "metadata": {
        "id": "lSss4O7e9mBo",
        "colab_type": "text"
      },
      "source": [
        "Logical operators - high income, good credit eligible for loan; 1.AND: both condition satisfy 2. OR:either one satisfies 3.NOT: "
      ]
    },
    {
      "cell_type": "code",
      "metadata": {
        "id": "PqExiSj79t_m",
        "colab_type": "code",
        "colab": {}
      },
      "source": [
        "has_high_income = True\n",
        "has_good_credit = True\n",
        "if has_high_income and has_good_credit:\n",
        "  print('Eligible for loan')\n",
        "else :\n",
        "  print('Loan not Eligible')\n"
      ],
      "execution_count": 0,
      "outputs": []
    },
    {
      "cell_type": "code",
      "metadata": {
        "id": "DYNp8OcCDCiU",
        "colab_type": "code",
        "colab": {}
      },
      "source": [
        "has_high_income = True\n",
        "has_good_credit = False\n",
        "if has_high_income or has_good_credit:\n",
        "  print('Eligible for loan')\n",
        "else :\n",
        "  print('Loan not Eligible')\n"
      ],
      "execution_count": 0,
      "outputs": []
    },
    {
      "cell_type": "code",
      "metadata": {
        "id": "k7yilG-HDlNp",
        "colab_type": "code",
        "colab": {}
      },
      "source": [
        "has_criminal_record = False\n",
        "has_good_credit = True\n",
        "if  has_good_credit and not has_criminal_record:\n",
        "  print('Eligible for loan')\n",
        "else :\n",
        "  print('Loan not Eligible')\n"
      ],
      "execution_count": 0,
      "outputs": []
    },
    {
      "cell_type": "markdown",
      "metadata": {
        "id": "E-rR_qyKE7qI",
        "colab_type": "text"
      },
      "source": [
        "Comparism operator >, ==, = is assignment- not a boolean"
      ]
    },
    {
      "cell_type": "code",
      "metadata": {
        "id": "27QHLaQoFDK-",
        "colab_type": "code",
        "colab": {}
      },
      "source": [
        "temperature = 40\n",
        "if temperature > 30:    # replace > by == then by !=\n",
        "  print(\"it's a hot day\")\n",
        "else :\n",
        "  print(\"it's not too hot day\")  \n",
        "\n",
        " \n"
      ],
      "execution_count": 0,
      "outputs": []
    },
    {
      "cell_type": "code",
      "metadata": {
        "id": "-W8M7pwicUQW",
        "colab_type": "code",
        "colab": {}
      },
      "source": [
        "name=\"karthikeyan\"\n",
        "if len(name )< 3:\n",
        "  print(\"name must be atleast 3 character\")\n",
        "elif len(name)>50 :\n",
        "  print(\"name must be maximum of 50 character\")\n",
        "else:\n",
        "  print(\"name looks good!\")\n"
      ],
      "execution_count": 0,
      "outputs": []
    },
    {
      "cell_type": "markdown",
      "metadata": {
        "id": "-qDDSsMoq0AM",
        "colab_type": "text"
      },
      "source": [
        "Weight conversion- l or kg"
      ]
    },
    {
      "cell_type": "code",
      "metadata": {
        "id": "aDmjX2ntrO1E",
        "colab_type": "code",
        "outputId": "3f2e95c9-a31f-4773-a2ef-fc8626abe06f",
        "colab": {
          "base_uri": "https://localhost:8080/",
          "height": 68
        }
      },
      "source": [
        "weight= int(input('weight:'))\n",
        "unit= input(\"(L)bs or(K)g\")\n",
        "if unit.upper == \"L\":\n",
        "  converted = weight*0.45\n",
        "  print(f\" you are {convert}  Kilos\") # formated string\n",
        "else:\n",
        "  converted = weight // 0.45     # / floating ptnum, // int\n",
        "  print(f\" u r {converted} into pounds\")"
      ],
      "execution_count": 0,
      "outputs": [
        {
          "output_type": "stream",
          "text": [
            "weight:60\n",
            "(L)bs or(K)gK\n",
            " u r 133.0 into pounds\n"
          ],
          "name": "stdout"
        }
      ]
    }
  ]
}