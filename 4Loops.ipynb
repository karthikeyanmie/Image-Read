{
  "nbformat": 4,
  "nbformat_minor": 0,
  "metadata": {
    "colab": {
      "name": "4Loops.ipynb",
      "provenance": [],
      "authorship_tag": "ABX9TyO376QAfLi4XChHdpaOJtLw",
      "include_colab_link": true
    },
    "kernelspec": {
      "name": "python3",
      "display_name": "Python 3"
    }
  },
  "cells": [
    {
      "cell_type": "markdown",
      "metadata": {
        "id": "view-in-github",
        "colab_type": "text"
      },
      "source": [
        "<a href=\"https://colab.research.google.com/github/karthikeyanmie/Image-Read/blob/master/4Loops.ipynb\" target=\"_parent\"><img src=\"https://colab.research.google.com/assets/colab-badge.svg\" alt=\"Open In Colab\"/></a>"
      ]
    },
    {
      "cell_type": "code",
      "metadata": {
        "id": "kxjGOlEdKGEQ",
        "colab_type": "code",
        "colab": {}
      },
      "source": [
        "i=1\n",
        "while i<=5:\n",
        "  i=i+1\n",
        "  print(\"Done\")\n",
        "\n"
      ],
      "execution_count": 0,
      "outputs": []
    },
    {
      "cell_type": "code",
      "metadata": {
        "id": "wcL61T9RLTZ4",
        "colab_type": "code",
        "colab": {}
      },
      "source": [
        "i=1\n",
        "while i<=5:\n",
        "  print(\"*\"*i)\n",
        "  i=i+1\n",
        "\n"
      ],
      "execution_count": 0,
      "outputs": []
    },
    {
      "cell_type": "markdown",
      "metadata": {
        "id": "7kkjZKVyL3kj",
        "colab_type": "text"
      },
      "source": [
        "Guessing game"
      ]
    },
    {
      "cell_type": "code",
      "metadata": {
        "id": "eexIrtmxLvHp",
        "colab_type": "code",
        "colab": {}
      },
      "source": [
        "secret_number =9\n",
        "guess_count = 0\n",
        "guess_limit = 3\n",
        "while guess_count <= guess_limit:\n",
        "  guess= int(input(\"Guess:\"))\n",
        "  guess_count += 1\n",
        "  if guess == secret_number:\n",
        "    print('won ')\n",
        "    break\n",
        "else:\n",
        "  print('sorry, try next time.')  \n",
        "     \n"
      ],
      "execution_count": 0,
      "outputs": []
    },
    {
      "cell_type": "markdown",
      "metadata": {
        "id": "OgxpvsLTQdeX",
        "colab_type": "text"
      },
      "source": [
        "car game\n"
      ]
    },
    {
      "cell_type": "code",
      "metadata": {
        "id": "WEEp_dsvQhEG",
        "colab_type": "code",
        "colab": {}
      },
      "source": [
        "command=\"\"\n",
        "while command != \"quit\":\n",
        "  command = input(\">\").lower()\n",
        "  if command == \"start\":\n",
        "      print(\"car started.\")\n",
        "   \n",
        "  elif command == \"stop\":\n",
        "      print(\"stop the car\")\n",
        "  elif command == \"quit\":\n",
        "      print('''\n",
        "      start- to start the car\n",
        "      stop-  to stop the car\n",
        "      quit- to quit''')\n",
        "  else :\n",
        "      print(\"sorry, i don't understand\")\n",
        "\n",
        "\n"
      ],
      "execution_count": 0,
      "outputs": []
    }
  ]
}