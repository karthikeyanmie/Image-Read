{
  "nbformat": 4,
  "nbformat_minor": 0,
  "metadata": {
    "colab": {
      "name": "i1.ipynb",
      "provenance": [],
      "authorship_tag": "ABX9TyOVHgZ7rsc0isv1UGZk3QD4",
      "include_colab_link": true
    },
    "kernelspec": {
      "name": "python3",
      "display_name": "Python 3"
    }
  },
  "cells": [
    {
      "cell_type": "markdown",
      "metadata": {
        "id": "view-in-github",
        "colab_type": "text"
      },
      "source": [
        "<a href=\"https://colab.research.google.com/github/karthikeyanmie/Image-Read/blob/master/i1.ipynb\" target=\"_parent\"><img src=\"https://colab.research.google.com/assets/colab-badge.svg\" alt=\"Open In Colab\"/></a>"
      ]
    },
    {
      "cell_type": "code",
      "metadata": {
        "id": "hzKWGn1H3UFS",
        "colab_type": "code",
        "colab": {
          "base_uri": "https://localhost:8080/",
          "height": 34
        },
        "outputId": "ba9584a4-2058-4a31-ebaf-cd98fd834a31"
      },
      "source": [
        "my_list = ['geeks', 'practice', 'contribute'] \n",
        "print(my_list[-1])"
      ],
      "execution_count": 2,
      "outputs": [
        {
          "output_type": "stream",
          "text": [
            "contribute\n"
          ],
          "name": "stdout"
        }
      ]
    },
    {
      "cell_type": "markdown",
      "metadata": {
        "id": "hKqiiT9r4LD5",
        "colab_type": "text"
      },
      "source": [
        "Allows Negative Indexing: Python allows negative indexing for its sequences. Index -1 refer to the last element, -2 second last element and so on."
      ]
    }
  ]
}