{
  "nbformat": 4,
  "nbformat_minor": 0,
  "metadata": {
    "colab": {
      "name": "1.String.ipynb",
      "provenance": [],
      "authorship_tag": "ABX9TyPBNMUsxYWDkE5Hxw8sUu72",
      "include_colab_link": true
    },
    "kernelspec": {
      "name": "python3",
      "display_name": "Python 3"
    }
  },
  "cells": [
    {
      "cell_type": "markdown",
      "metadata": {
        "id": "view-in-github",
        "colab_type": "text"
      },
      "source": [
        "<a href=\"https://colab.research.google.com/github/karthikeyanmie/Image-Read/blob/master/1_String.ipynb\" target=\"_parent\"><img src=\"https://colab.research.google.com/assets/colab-badge.svg\" alt=\"Open In Colab\"/></a>"
      ]
    },
    {
      "cell_type": "code",
      "metadata": {
        "id": "hw1BPrXWzP6T",
        "colab_type": "code",
        "colab": {}
      },
      "source": [
        "course =\"Python's course  for begineers\"\n",
        "print (course )"
      ],
      "execution_count": 0,
      "outputs": []
    },
    {
      "cell_type": "code",
      "metadata": {
        "id": "PVZ2O9cKFY9C",
        "colab_type": "code",
        "colab": {}
      },
      "source": [
        "course=\"Python  for \"begineers\" # error\n",
        "print (course)"
      ],
      "execution_count": 0,
      "outputs": []
    },
    {
      "cell_type": "code",
      "metadata": {
        "id": "3WIN26L5Frf2",
        "colab_type": "code",
        "outputId": "c91f9f5d-a02e-4e5a-c6c8-39dc7b12540d",
        "colab": {
          "base_uri": "https://localhost:8080/",
          "height": 34
        }
      },
      "source": [
        "course='Python for \"begineers\"'\n",
        "print (course)"
      ],
      "execution_count": 0,
      "outputs": [
        {
          "output_type": "stream",
          "text": [
            "Python for \"begineers\"\n"
          ],
          "name": "stdout"
        }
      ]
    },
    {
      "cell_type": "code",
      "metadata": {
        "id": "BFxVpuldF9R9",
        "colab_type": "code",
        "colab": {}
      },
      "source": [
        "course='''\n",
        "Hi karthi\n",
        "ur order for product is ready\n",
        "when u will get it\n",
        "thank you\n",
        "\n",
        "\n",
        "\n",
        "'''\n",
        "print (course)"
      ],
      "execution_count": 0,
      "outputs": []
    },
    {
      "cell_type": "code",
      "metadata": {
        "id": "VorZWw8XG-Ey",
        "colab_type": "code",
        "colab": {}
      },
      "source": [
        "course=\"Python for begineers\" #[0] first character\n",
        "print (course[8])"
      ],
      "execution_count": 0,
      "outputs": []
    },
    {
      "cell_type": "code",
      "metadata": {
        "id": "74u9bPRFILIH",
        "colab_type": "code",
        "colab": {}
      },
      "source": [
        "course=\"Python for begineers\" #[-1] Last  character\n",
        "print (course[-5])"
      ],
      "execution_count": 0,
      "outputs": []
    },
    {
      "cell_type": "code",
      "metadata": {
        "id": "YXSKVoXCIwAr",
        "colab_type": "code",
        "colab": {}
      },
      "source": [
        "course=\"Python for begineers\" #[0: 5] start first character( start index) end index is before 5\n",
        "print (course[0:5]) # 0 upto 4 characters "
      ],
      "execution_count": 0,
      "outputs": []
    },
    {
      "cell_type": "code",
      "metadata": {
        "id": "NKKblt3yKM4Z",
        "colab_type": "code",
        "outputId": "59439f64-3d31-4506-b714-3e9b077b220c",
        "colab": {
          "base_uri": "https://localhost:8080/",
          "height": 34
        }
      },
      "source": [
        "course=\"Python for begineers\" #[0] first character\n",
        "another= course [:] #: all characters\n",
        "print (another)"
      ],
      "execution_count": 0,
      "outputs": [
        {
          "output_type": "stream",
          "text": [
            "Python for begineers\n"
          ],
          "name": "stdout"
        }
      ]
    },
    {
      "cell_type": "code",
      "metadata": {
        "id": "Y3JFA4SpJZqU",
        "colab_type": "code",
        "outputId": "28a94b84-5e4b-462b-f3d6-2005be436d09",
        "colab": {
          "base_uri": "https://localhost:8080/",
          "height": 34
        }
      },
      "source": [
        "name = \"karthikeyan\" # without \"\" name error, karthikeyan is not def\n",
        "print (name [1:-1] )\n"
      ],
      "execution_count": 0,
      "outputs": [
        {
          "output_type": "stream",
          "text": [
            "arthikeya\n"
          ],
          "name": "stdout"
        }
      ]
    },
    {
      "cell_type": "markdown",
      "metadata": {
        "id": "gQmF8i6lL23u",
        "colab_type": "text"
      },
      "source": [
        "**Formatted strings** - dynamically generate some Text"
      ]
    },
    {
      "cell_type": "code",
      "metadata": {
        "id": "BDXwdPjeLzfc",
        "colab_type": "code",
        "outputId": "af67df66-d2f0-4f61-d0dd-515eccbf50c9",
        "colab": {
          "base_uri": "https://localhost:8080/",
          "height": 34
        }
      },
      "source": [
        "first ='karthikeyan'\n",
        "last = 'santhanakrishnan' # karthikeyan [santhanakrishnan] is a engineer\n",
        "message = first + ' [' + last + '] is a Engineer'  # concordination of the string\n",
        "print (message)"
      ],
      "execution_count": 0,
      "outputs": [
        {
          "output_type": "stream",
          "text": [
            "karthikeyan [santhanakrishnan] is a Engineer\n"
          ],
          "name": "stdout"
        }
      ]
    },
    {
      "cell_type": "code",
      "metadata": {
        "id": "r6FIQtkMKx9l",
        "colab_type": "code",
        "colab": {}
      },
      "source": [
        "first ='karthikeyan'\n",
        "last = 'santhanakrishnan' # karthikeyan [santhanakrishnan] is a engineer\n",
        "message = first + ' [' + last + '] is a engineer'  # concordination of the string\n",
        "msg= f'{first } {[last]} is a engineer'  # formated string 2 var\n",
        "print (msg) # formatting of the strings"
      ],
      "execution_count": 0,
      "outputs": []
    },
    {
      "cell_type": "markdown",
      "metadata": {
        "id": "h3s6NepbRFS-",
        "colab_type": "text"
      },
      "source": [
        "[link text](https://)**String Methods** "
      ]
    },
    {
      "cell_type": "code",
      "metadata": {
        "id": "jPVMBQEy0CwX",
        "colab_type": "code",
        "outputId": "1f81fb2d-31c8-4e01-ee92-2ddefa87a95e",
        "colab": {
          "base_uri": "https://localhost:8080/",
          "height": 68
        }
      },
      "source": [
        "course=\"Python for Begineers\"\n",
        "print(course)\n",
        "print(course.find('o'))\n",
        "print(course.find('Begineers'))"
      ],
      "execution_count": 0,
      "outputs": [
        {
          "output_type": "stream",
          "text": [
            "Python for Begineers\n",
            "4\n",
            "11\n"
          ],
          "name": "stdout"
        }
      ]
    },
    {
      "cell_type": "code",
      "metadata": {
        "id": "9UM29yraxhIA",
        "colab_type": "code",
        "outputId": "5d87d0ac-4d07-4a01-a217-a00152656b4c",
        "colab": {
          "base_uri": "https://localhost:8080/",
          "height": 34
        }
      },
      "source": [
        "course=\"Python for begineers\" \n",
        "print(len(course)) #len func is a general purpose func; here it say length"
      ],
      "execution_count": 0,
      "outputs": [
        {
          "output_type": "stream",
          "text": [
            "20\n"
          ],
          "name": "stdout"
        }
      ]
    },
    {
      "cell_type": "code",
      "metadata": {
        "id": "AUq-7lX_y5Bz",
        "colab_type": "code",
        "outputId": "265bf4e2-4ae5-4f5e-9c7e-304ac120b992",
        "colab": {
          "base_uri": "https://localhost:8080/",
          "height": 34
        }
      },
      "source": [
        "course=\"Python for begineers\" \n",
        "course.upper() # it is method; we can see the diff between func and method\n",
        "print(course.lower())"
      ],
      "execution_count": 0,
      "outputs": [
        {
          "output_type": "stream",
          "text": [
            "python for begineers\n"
          ],
          "name": "stdout"
        }
      ]
    },
    {
      "cell_type": "code",
      "metadata": {
        "id": "gbZ-lQnu1zIV",
        "colab_type": "code",
        "colab": {}
      },
      "source": [
        "course=\"Python for Begineers\"\n",
        "print(course.replace('Begineers','starters')) # , is used to pass the second value"
      ],
      "execution_count": 0,
      "outputs": []
    },
    {
      "cell_type": "code",
      "metadata": {
        "id": "cora72072cMI",
        "colab_type": "code",
        "outputId": "cc535085-c3b9-4088-b211-714cdaa4a523",
        "colab": {
          "base_uri": "https://localhost:8080/",
          "height": 34
        }
      },
      "source": [
        "print(course.replace('B','s')) # single character replacement"
      ],
      "execution_count": 0,
      "outputs": [
        {
          "output_type": "stream",
          "text": [
            "Python for segineers\n"
          ],
          "name": "stdout"
        }
      ]
    },
    {
      "cell_type": "code",
      "metadata": {
        "id": "II7XyVt13gih",
        "colab_type": "code",
        "colab": {}
      },
      "source": [
        "course=\"Python for Begineers\"\n",
        "print('python' in course) # in operator(?)\n",
        "print(\"BegineerS\" in course)\n"
      ],
      "execution_count": 0,
      "outputs": []
    },
    {
      "cell_type": "code",
      "metadata": {
        "id": "hpZKloq36B-r",
        "colab_type": "code",
        "colab": {}
      },
      "source": [
        "course=\"Python for begineers\" \n",
        "len()  # general purpose \n",
        "course.upper() \n",
        "course.lower()  # methods\n",
        "course.title()\n",
        "course.find()\n",
        "course.replace()\n",
        "\"\" in course"
      ],
      "execution_count": 0,
      "outputs": []
    }
  ]
}