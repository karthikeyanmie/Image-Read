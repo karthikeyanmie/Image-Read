{
  "nbformat": 4,
  "nbformat_minor": 0,
  "metadata": {
    "colab": {
      "name": "4Loops,func.ipynb",
      "provenance": [],
      "authorship_tag": "ABX9TyPE+NPZbml9zsC6ToRrPVKz",
      "include_colab_link": true
    },
    "kernelspec": {
      "name": "python3",
      "display_name": "Python 3"
    }
  },
  "cells": [
    {
      "cell_type": "markdown",
      "metadata": {
        "id": "view-in-github",
        "colab_type": "text"
      },
      "source": [
        "<a href=\"https://colab.research.google.com/github/karthikeyanmie/Image-Read/blob/master/4Loops%2Cfunc.ipynb\" target=\"_parent\"><img src=\"https://colab.research.google.com/assets/colab-badge.svg\" alt=\"Open In Colab\"/></a>"
      ]
    },
    {
      "cell_type": "code",
      "metadata": {
        "id": "kxjGOlEdKGEQ",
        "colab_type": "code",
        "colab": {}
      },
      "source": [
        "i=1\n",
        "while i<=5:\n",
        "  i=i+1\n",
        "  print(\"Done\")\n",
        "\n"
      ],
      "execution_count": null,
      "outputs": []
    },
    {
      "cell_type": "code",
      "metadata": {
        "id": "wcL61T9RLTZ4",
        "colab_type": "code",
        "colab": {}
      },
      "source": [
        "i=1\n",
        "while i<=5:\n",
        "  print(\"*\"*i)\n",
        "  i=i+1\n",
        "\n"
      ],
      "execution_count": null,
      "outputs": []
    },
    {
      "cell_type": "markdown",
      "metadata": {
        "id": "7kkjZKVyL3kj",
        "colab_type": "text"
      },
      "source": [
        "Guessing game"
      ]
    },
    {
      "cell_type": "code",
      "metadata": {
        "id": "eexIrtmxLvHp",
        "colab_type": "code",
        "colab": {}
      },
      "source": [
        "secret_number =9\n",
        "guess_count = 0\n",
        "guess_limit = 3\n",
        "while guess_count <= guess_limit:\n",
        "  guess= int(input(\"Guess:\"))\n",
        "  guess_count += 1\n",
        "  if guess == secret_number:\n",
        "    print('won ')\n",
        "    break\n",
        "else:\n",
        "  print('sorry, try next time.')  \n",
        "     \n"
      ],
      "execution_count": null,
      "outputs": []
    },
    {
      "cell_type": "markdown",
      "metadata": {
        "id": "OgxpvsLTQdeX",
        "colab_type": "text"
      },
      "source": [
        "car game\n"
      ]
    },
    {
      "cell_type": "code",
      "metadata": {
        "id": "WEEp_dsvQhEG",
        "colab_type": "code",
        "colab": {}
      },
      "source": [
        "command=\"\"\n",
        "while command != \"quit\":\n",
        "  command = input(\">\").lower()\n",
        "  if command == \"start\":\n",
        "      print(\"car started.\")\n",
        "   \n",
        "  elif command == \"stop\":\n",
        "      print(\"stop the car\")\n",
        "  elif command == \"quit\":\n",
        "      print('''\n",
        "      start- to start the car\n",
        "      stop-  to stop the car\n",
        "      quit- to quit''')\n",
        "  else :\n",
        "      print(\"sorry, i don't understand\")\n",
        "\n",
        "\n"
      ],
      "execution_count": null,
      "outputs": []
    },
    {
      "cell_type": "markdown",
      "metadata": {
        "id": "f8_HzORbiOdc",
        "colab_type": "text"
      },
      "source": [
        "For Loops \n"
      ]
    },
    {
      "cell_type": "code",
      "metadata": {
        "id": "VU-6k8xIiSeI",
        "colab_type": "code",
        "colab": {
          "base_uri": "https://localhost:8080/",
          "height": 68
        },
        "outputId": "21f04c34-a56d-483c-a16a-535eed5ce601"
      },
      "source": [
        "for item in [\"karthi\", \"Archana\",\"thanvikha\"]: \n",
        "  print(item)           # sqr bracket\n",
        "   \n"
      ],
      "execution_count": null,
      "outputs": [
        {
          "output_type": "stream",
          "text": [
            "karthi\n",
            "Archana\n",
            "thanvikha\n"
          ],
          "name": "stdout"
        }
      ]
    },
    {
      "cell_type": "code",
      "metadata": {
        "id": "vlta1eiZjbBE",
        "colab_type": "code",
        "colab": {}
      },
      "source": [
        "for item in [1,2,3,4,5,6,7,8,9,10]: \n",
        "  print(item)   "
      ],
      "execution_count": null,
      "outputs": []
    },
    {
      "cell_type": "code",
      "metadata": {
        "id": "iiSUIEp0jlIm",
        "colab_type": "code",
        "colab": {}
      },
      "source": [
        "for item in range(10): \n",
        "  print(item)  \n",
        "for item1 in range(5,10):  # 5 to 10 , before 10 it ends\n",
        "  print(item1)  \n"
      ],
      "execution_count": null,
      "outputs": []
    },
    {
      "cell_type": "code",
      "metadata": {
        "id": "B3LWQ_YrkcZD",
        "colab_type": "code",
        "colab": {}
      },
      "source": [
        "for item2 in range(5,10,2):     # 2 as a step func\n",
        "  print(item2)  "
      ],
      "execution_count": null,
      "outputs": []
    },
    {
      "cell_type": "code",
      "metadata": {
        "id": "CoLQppmqkfCi",
        "colab_type": "code",
        "colab": {}
      },
      "source": [
        "for item2 in range(5,10,2):     # 2 as a step func\n",
        "  print(item2)  "
      ],
      "execution_count": null,
      "outputs": []
    },
    {
      "cell_type": "code",
      "metadata": {
        "id": "7-IHEn_Lk1kv",
        "colab_type": "code",
        "colab": {}
      },
      "source": [
        "prices = [10,20,30]\n",
        "total =0\n",
        "\n",
        "for price in prices:\n",
        "  total += price      # like item in range\n",
        "print(f'Total: {total}')\n",
        "    "
      ],
      "execution_count": null,
      "outputs": []
    },
    {
      "cell_type": "markdown",
      "metadata": {
        "id": "vqEPm5jVmm7T",
        "colab_type": "text"
      },
      "source": [
        "Nested loop - adding one loop inside another loop\n"
      ]
    },
    {
      "cell_type": "code",
      "metadata": {
        "id": "63274Xbemd_C",
        "colab_type": "code",
        "colab": {}
      },
      "source": [
        "for x in range(4):\n",
        "  for y in range(3): # first iteration x=0 and y=0 to2: x = 0 to3\n",
        "    print(f'({x},{y})')\n"
      ],
      "execution_count": null,
      "outputs": []
    },
    {
      "cell_type": "code",
      "metadata": {
        "id": "eTtquFuJrMeq",
        "colab_type": "code",
        "colab": {}
      },
      "source": [
        "numbers=[5,2,5,2,2]  \n",
        "for x_count in numbers:\n",
        "  print(\"x\"*x_count)   # other lang don't support\n"
      ],
      "execution_count": null,
      "outputs": []
    },
    {
      "cell_type": "code",
      "metadata": {
        "id": "44DQ5yphtgBN",
        "colab_type": "code",
        "colab": {}
      },
      "source": [
        "numbers=[5,2,5,2,2]\n",
        "for x_count in numbers:  # x should be 5 count\n",
        "    output = \"\"  # empty string\n",
        "    for count in range (x_count): # x_ count = 5 for the first iteration, 2nd iter 2 times,etc\n",
        "      output +='x'\n",
        "    print(output)\n",
        "  "
      ],
      "execution_count": null,
      "outputs": []
    },
    {
      "cell_type": "code",
      "metadata": {
        "id": "f1KW74YWvRKj",
        "colab_type": "code",
        "colab": {}
      },
      "source": [
        "names = ['nikil','jones','ashim','karu','nirma','latha','deep','maria','edward']\n",
        "names[0]= \"niki\"\n",
        "print(names[0])\n",
        "print(names[3:])\n",
        "print(names[:]) # all items\n",
        "print(names[2:5]) # 2 to 4 included in o/p\n",
        "print(names[2:-2]) # 2nd and -2 will be included"
      ],
      "execution_count": null,
      "outputs": []
    },
    {
      "cell_type": "markdown",
      "metadata": {
        "id": "uxc36SUsxfUA",
        "colab_type": "text"
      },
      "source": [
        "Find the largest number in this list\n"
      ]
    },
    {
      "cell_type": "code",
      "metadata": {
        "id": "B9IJ0UwcxlDB",
        "colab_type": "code",
        "colab": {}
      },
      "source": [
        "numbers =[ 5,11,2,7,4,19,10,6,8,]\n",
        "max= numbers[0] # assigning first value as maximum\n",
        "for number in numbers:\n",
        "  if number > max:\n",
        "    max= number\n",
        "  print(max)"
      ],
      "execution_count": null,
      "outputs": []
    },
    {
      "cell_type": "code",
      "metadata": {
        "id": "g4GvSM_Jw0U2",
        "colab_type": "code",
        "colab": {}
      },
      "source": [
        "matrix=[\n",
        "      [1,2,4],  # row item\n",
        "      [3,2,6],\n",
        "      [8,4,2]\n",
        "]\n",
        "matrix[0][1]= 20  # we can remove it\n",
        "print(matrix[0][1])  #[0] shows 0 row, [1] coloumn, always starts from 0 index\n"
      ],
      "execution_count": null,
      "outputs": []
    },
    {
      "cell_type": "code",
      "metadata": {
        "id": "MgFB0Becysup",
        "colab_type": "code",
        "colab": {}
      },
      "source": [
        "matrix=[\n",
        "      [1,2,4],\n",
        "      [3,2,6],\n",
        "      [8,4,2]\n",
        "]\n",
        "for row in matrix:\n",
        "  for item in row:\n",
        "    print(item)"
      ],
      "execution_count": null,
      "outputs": []
    },
    {
      "cell_type": "code",
      "metadata": {
        "id": "rks9czjKzVne",
        "colab_type": "code",
        "colab": {}
      },
      "source": [
        "numbers= [6,7,9,3,2]\n",
        "numbers.insert (0,10) # (a,b) a index , b actual obj\n",
        "print(numbers)\n",
        "numbers.append (20) # added at the end\n",
        "print(numbers)\n",
        "numbers.remove(9) # 9 removed\n",
        "print(numbers)\n",
        "print(50 in numbers ) # index of values in num , it gives boolean values- False\n",
        "numbers.pop() # last iteam removed\n",
        "print(numbers)\n",
        "print(numbers.index(7)) # index value is 2\n",
        "\n",
        "numbers.clear() # all\n",
        "print(numbers)\n",
        "\n",
        "print(numbers.index(100)) # index value not in the list error\n"
      ],
      "execution_count": null,
      "outputs": []
    },
    {
      "cell_type": "code",
      "metadata": {
        "id": "Uc1sX3u93AlQ",
        "colab_type": "code",
        "colab": {}
      },
      "source": [
        "numbers= [6,7,9,7,3,2]\n",
        "\n",
        "print(numbers.count(7)) #.count method\n",
        "numbers.sort()\n",
        "print(numbers )\n",
        "numbers.reverse()\n",
        "print(numbers )"
      ],
      "execution_count": null,
      "outputs": []
    },
    {
      "cell_type": "code",
      "metadata": {
        "id": "YoBtJgrOIJ-M",
        "colab_type": "code",
        "colab": {}
      },
      "source": [
        "numbers= [6,7,9,7,3,2]\n",
        "numbers2=numbers.copy()\n",
        "numbers.append(10)\n",
        "print(numbers2)\n"
      ],
      "execution_count": null,
      "outputs": []
    },
    {
      "cell_type": "code",
      "metadata": {
        "id": "JT1gV28rLvFz",
        "colab_type": "code",
        "colab": {}
      },
      "source": [
        "numbers= [6,7,3,9,7,3,6,2]\n",
        "uniques = []\n",
        "for number in numbers:\n",
        "  if number not in uniques:\n",
        "    uniques.append(number)\n",
        "print (uniques)\n"
      ],
      "execution_count": null,
      "outputs": []
    },
    {
      "cell_type": "code",
      "metadata": {
        "id": "qbwK9KJVPpbs",
        "colab_type": "code",
        "colab": {}
      },
      "source": [
        "numbers= (1,2,3) # tuple obj\n",
        "numbers[0] = 10\n",
        "Print(numbers[0]) # "
      ],
      "execution_count": null,
      "outputs": []
    },
    {
      "cell_type": "code",
      "metadata": {
        "id": "ir4eibtOTUlp",
        "colab_type": "code",
        "colab": {}
      },
      "source": [
        "coordinates = (1,2,3)\n",
        "coordinates[0]*coordinates[1]*coordinates[2]\n"
      ],
      "execution_count": null,
      "outputs": []
    },
    {
      "cell_type": "code",
      "metadata": {
        "id": "JPxUSZ8-T_A1",
        "colab_type": "code",
        "colab": {}
      },
      "source": [
        "coordinates = (1,2,3) # without tuple, [] has more method usage\n",
        "x= coordinates[0]  # without these lines it execute\n",
        "y= coordinates[1]\n",
        "z= coordinates[2]\n",
        "x,y,z = coordinates\n",
        "print (y)\n",
        "\n"
      ],
      "execution_count": null,
      "outputs": []
    },
    {
      "cell_type": "code",
      "metadata": {
        "id": "pibanbHwVP6u",
        "colab_type": "code",
        "colab": {}
      },
      "source": [
        "customer ={ \"name\": \"karthi keyan\",\n",
        "\"email\":\"rajakarthi2000@yahoo.com\",\n",
        "\"phone\":\"9500\" }\n",
        "print(customer.get(\"email\"))    # get method ,\n",
        "customer[\"name\"] = \"karthi\"\n",
        "print (customer[\"name\"])\n",
        "\n",
        "customer[\"birthday\"] = \"july 18th 1979\"\n",
        "print (customer[\"birthday\"])"
      ],
      "execution_count": null,
      "outputs": []
    },
    {
      "cell_type": "code",
      "metadata": {
        "id": "AJ0zJvVNaE5E",
        "colab_type": "code",
        "colab": {}
      },
      "source": [
        "phone = input (\"phone: \")\n",
        "digits_mapping = {\n",
        "\"1\" : \"one\",\n",
        "\"2\" : \" two\",\n",
        "\"3\" : \"three\",\n",
        "\"4\" : \"four\",\n",
        "\"5\" : \"five\",\n",
        "\"5\" : \"five\",\n",
        "\"6\": \"six\", \n",
        "\"7\": \"seven\"\n",
        "}\n",
        "output = \"              \"\n",
        "for ch in phone:\n",
        "  output += digits_mapping.get( ch, \" ! \" +  \"  \" ) # [] or get method , \n",
        "print(output)   "
      ],
      "execution_count": null,
      "outputs": []
    },
    {
      "cell_type": "code",
      "metadata": {
        "id": "aUysTnVYech9",
        "colab_type": "code",
        "colab": {
          "base_uri": "https://localhost:8080/",
          "height": 135
        },
        "outputId": "26fd264e-eb8e-49fa-8f2d-bfee620e2e3b"
      },
      "source": [
        "message = input(\">\")\n",
        "words = message.split(\"   \") # what this method - boundary into multiple words\n",
        "emojis ={\n",
        "    \":)\": \"abc\" # happy face\n",
        "    \"(:\": \"bba\"\n",
        "}\n",
        "output =\"  \"\n",
        "for word in words:\n",
        "  output += emojis.get(word, word) + \"\"\n",
        "print (output)\n",
        "\n"
      ],
      "execution_count": 41,
      "outputs": [
        {
          "output_type": "error",
          "ename": "SyntaxError",
          "evalue": "ignored",
          "traceback": [
            "\u001b[0;36m  File \u001b[0;32m\"<ipython-input-41-2b75a9ae8c21>\"\u001b[0;36m, line \u001b[0;32m5\u001b[0m\n\u001b[0;31m    \"(:\": \"bba\"\u001b[0m\n\u001b[0m        ^\u001b[0m\n\u001b[0;31mSyntaxError\u001b[0m\u001b[0;31m:\u001b[0m invalid syntax\n"
          ]
        }
      ]
    },
    {
      "cell_type": "markdown",
      "metadata": {
        "id": "BaeAup1diLbs",
        "colab_type": "text"
      },
      "source": [
        "Func: few lines of code to perform a specific task/ organised program eg print (), input()"
      ]
    },
    {
      "cell_type": "code",
      "metadata": {
        "id": "obRe-rjRh5P9",
        "colab_type": "code",
        "colab": {}
      },
      "source": [
        "def greet_user():\n",
        "    print(\" Hi Karthi\")\n",
        "    print(\"welcome you all\")\n",
        "\n",
        "\n",
        "print(\"start\") # exe of func starts\n",
        "greet_user()   # func goes to def for exe\n",
        "print(\"finish\")"
      ],
      "execution_count": null,
      "outputs": []
    },
    {
      "cell_type": "markdown",
      "metadata": {
        "id": "e-NaKWVEkNte",
        "colab_type": "text"
      },
      "source": [
        "passing information to the func - ( inside )\n",
        "\n"
      ]
    },
    {
      "cell_type": "code",
      "metadata": {
        "id": "qjqo0JX9kTd2",
        "colab_type": "code",
        "colab": {
          "base_uri": "https://localhost:8080/",
          "height": 90
        },
        "outputId": "322a7ea1-d405-4089-b1b3-3f643070c94d"
      },
      "source": [
        "def greet_user( name):\n",
        "    print(f\" Hi {name} !\")\n",
        "    print(\"welcome you all\")\n",
        "\n",
        "\n",
        "print(\"start\") # exe of func starts\n",
        "greet_user(\"thanvikha\")   # func goes to def for exe\n",
        "print(\"thanks for patience listerning\")"
      ],
      "execution_count": 47,
      "outputs": [
        {
          "output_type": "stream",
          "text": [
            "start\n",
            " Hi thanvikha !\n",
            "welcome you all\n",
            "thanks for patience listerning\n"
          ],
          "name": "stdout"
        }
      ]
    },
    {
      "cell_type": "code",
      "metadata": {
        "id": "Fp4lW5vBl05I",
        "colab_type": "code",
        "colab": {}
      },
      "source": [
        "def greet_user( name):\n",
        "    print(f\" Hi {name} !\")\n",
        "    print(\"welcome you for reception\")\n",
        "\n",
        "\n",
        "print(\"start\") # exe of func starts\n",
        "greet_user(\"thanvikha\")   # func goes to def for exe\n",
        "greet_user(\"Archana\")\n",
        "greet_user(\"ravi\") # raviis argument passed to the name\n",
        "greet_user()    # error\n",
        "print(\"thanks for patience listerning\")"
      ],
      "execution_count": null,
      "outputs": []
    },
    {
      "cell_type": "code",
      "metadata": {
        "id": "RuA_TohJmr0v",
        "colab_type": "code",
        "colab": {}
      },
      "source": [
        "def greet_user( first_name, last_name):\n",
        "    print(f\" Hi {first_name}{last_name} !\")\n",
        "    print(\"welcome you for reception\")\n",
        "\n",
        "\n",
        "print(\"start\") # exe of func starts\n",
        "greet_user(\"thanvikha \", \"karthikeyan\")   \n",
        "print(\"finish\")"
      ],
      "execution_count": null,
      "outputs": []
    },
    {
      "cell_type": "code",
      "metadata": {
        "id": "sYP_1sT-oN_-",
        "colab_type": "code",
        "colab": {}
      },
      "source": [
        "def greet_user( first_name, last_name):\n",
        "    print(f\" Hi {first_name}          {last_name} !\")\n",
        "    print(\"welcome you for reception\")\n",
        "\n",
        "\n",
        "print(\"start\") # exe of func starts\n",
        "greet_user(last_name = \"karthi\" ,first_name =\"archana\")    # key word arguments\n",
        "print(\"finish\")"
      ],
      "execution_count": null,
      "outputs": []
    },
    {
      "cell_type": "code",
      "metadata": {
        "id": "5VtnbIhMqaW0",
        "colab_type": "code",
        "colab": {}
      },
      "source": [
        "def greet_user( first_name, last_name):\n",
        "    print(f\" Hi {first_name}          {last_name} !\")\n",
        "    print(\"welcome you for reception\")\n",
        "\n",
        "\n",
        "print(\"start\") # exe of func starts\n",
        "greet_user(\"karthi\" , last_name=\"archana\")    # position and key word arg\n",
        "\n",
        "print(\"finish\")"
      ],
      "execution_count": null,
      "outputs": []
    }
  ]
}