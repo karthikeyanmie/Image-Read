{
  "nbformat": 4,
  "nbformat_minor": 0,
  "metadata": {
    "colab": {
      "name": "addition of 2 numbers.ipynb",
      "provenance": [],
      "authorship_tag": "ABX9TyM9nxsGtMwj5rvJlSBQ+aNo",
      "include_colab_link": true
    },
    "kernelspec": {
      "name": "python3",
      "display_name": "Python 3"
    }
  },
  "cells": [
    {
      "cell_type": "markdown",
      "metadata": {
        "id": "view-in-github",
        "colab_type": "text"
      },
      "source": [
        "<a href=\"https://colab.research.google.com/github/karthikeyanmie/Image-Read/blob/master/addition_of_2_numbers.ipynb\" target=\"_parent\"><img src=\"https://colab.research.google.com/assets/colab-badge.svg\" alt=\"Open In Colab\"/></a>"
      ]
    },
    {
      "cell_type": "code",
      "metadata": {
        "id": "DtzUWhy81Xts",
        "colab_type": "code",
        "colab": {
          "base_uri": "https://localhost:8080/",
          "height": 34
        },
        "outputId": "29378bfd-dd4b-4c67-c266-aeeb197ae52c"
      },
      "source": [
        "# Python3 program to add two numbers \n",
        "  \n",
        "num1 = 15\n",
        "num2 = 12\n",
        "  \n",
        "# Adding two nos \n",
        "sum = num1 + num2 \n",
        "  \n",
        "# printing values \n",
        "print(\"Sum of {0} and {1} is {2}\" .format(num1, num2, sum)) "
      ],
      "execution_count": 1,
      "outputs": [
        {
          "output_type": "stream",
          "text": [
            "Sum of 15 and 12 is 27\n"
          ],
          "name": "stdout"
        }
      ]
    },
    {
      "cell_type": "code",
      "metadata": {
        "id": "ntPpFMpW1a1V",
        "colab_type": "code",
        "colab": {}
      },
      "source": [
        ""
      ],
      "execution_count": 0,
      "outputs": []
    }
  ]
}